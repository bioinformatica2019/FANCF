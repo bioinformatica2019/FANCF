{
 "cells": [
  {
   "cell_type": "code",
   "execution_count": 1,
   "metadata": {},
   "outputs": [
    {
     "name": "stdout",
     "output_type": "stream",
     "text": [
      "\"C:\\Program Files (x86)\\ClustalW2\\clustalw2.exe\" -infile=mrna.fasta\n",
      "done\n",
      "SingleLetterAlphabet() alignment with 4 rows and 86 columns\n",
      "--------CTTCGCGCACCTCA-TGGAATCCCTTCTGCAGCACC...--- gi|1732746308|ref|NM_022725.4|\n",
      "AGTATGGCCCTGGTGGGCCCCAATGGACTCGCTCCTGCAGCAGC...--- gi|1768686128|ref|XM_010987485\n",
      "--------TCAAATAGATCTTA--AAATTTCATTTAAGAGCGTT...--- gi|1351403763|ref|XM_002821953\n",
      "-------------TGAAGTTTA---TTTTTTGTTTAAAATAATC...CCA gi|1753033182|ref|XM_019020134\n"
     ]
    }
   ],
   "source": [
    "from Bio.Align.Applications import ClustalwCommandline\n",
    "from Bio import AlignIO\n",
    "\n",
    "clustalw_exe = r\"C:\\Program Files (x86)\\ClustalW2\\clustalw2.exe\"\n",
    "cline= ClustalwCommandline(clustalw_exe, infile= \"mrna.fasta\") #opuntia é um doc fasta com vários genes para alinhar\n",
    "print(cline)\n",
    "cline()\n",
    "print('done')\n",
    "align = AlignIO.read(\"mrna.aln\", \"clustal\")\n",
    "print (align)"
   ]
  },
  {
   "cell_type": "code",
   "execution_count": 2,
   "metadata": {},
   "outputs": [
    {
     "name": "stdout",
     "output_type": "stream",
     "text": [
      "  _____________ gi|1732746308|ref|NM_022725.4|\n",
      " |\n",
      " |             ______________________________ gi|1753033182|ref|XM_019020134.2|\n",
      "_|____________|\n",
      " |            |____________________________ gi|1351403763|ref|XM_002821953.4|\n",
      " |\n",
      " |____________ gi|1768686128|ref|XM_010987485.2|\n",
      "\n",
      "done\n"
     ]
    }
   ],
   "source": [
    "from Bio import Phylo\n",
    "tree= Phylo.read(\"mrna.dnd\", \"newick\")\n",
    "Phylo.draw_ascii(tree)\n",
    "print(\"done\")"
   ]
  },
  {
   "cell_type": "code",
   "execution_count": null,
   "metadata": {},
   "outputs": [],
   "source": [
    "Os alinahmentos foram feitos com a primerira linha do documento fasta de mrna de varias espécies. \n",
    "Com as sequencias inteiras esperei 2h e ainda não tinha conseguido gerar o Alinhamento_multiplo.aln..."
   ]
  },
  {
   "cell_type": "code",
   "execution_count": null,
   "metadata": {},
   "outputs": [],
   "source": [
    "from Bio.Align.Applications import ClustalwCommandline\n",
    "from Bio import AlignIO\n",
    "\n",
    "clustalw_exe = r\"C:\\Program Files (x86)\\ClustalW2\\clustalw2.exe\"\n",
    "cline= ClustalwCommandline(clustalw_exe, infile= \"Alinhamento_Multiplo.fasta\") #opuntia é um doc fasta com vários genes para alinhar\n",
    "print(cline)\n",
    "cline()\n",
    "print('done')\n",
    "align = AlignIO.read(\"Alinhamento_Multiplo.aln\", \"clustal\")\n",
    "print (align)"
   ]
  },
  {
   "cell_type": "code",
   "execution_count": null,
   "metadata": {},
   "outputs": [],
   "source": [
    "from Bio import Phylo\n",
    "tree= Phylo.read(\"Alinhamento_Multiplo.dnd\", \"newick\")\n",
    "Phylo.draw_ascii(tree)\n",
    "print(\"done\")"
   ]
  },
  {
   "cell_type": "code",
   "execution_count": null,
   "metadata": {},
   "outputs": [],
   "source": []
  }
 ],
 "metadata": {
  "kernelspec": {
   "display_name": "Python 3",
   "language": "python",
   "name": "python3"
  },
  "language_info": {
   "codemirror_mode": {
    "name": "ipython",
    "version": 3
   },
   "file_extension": ".py",
   "mimetype": "text/x-python",
   "name": "python",
   "nbconvert_exporter": "python",
   "pygments_lexer": "ipython3",
   "version": "3.7.3"
  }
 },
 "nbformat": 4,
 "nbformat_minor": 2
}
