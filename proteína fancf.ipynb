{
 "cells": [
  {
   "cell_type": "code",
   "execution_count": 1,
   "metadata": {},
   "outputs": [
    {
     "name": "stdout",
     "output_type": "stream",
     "text": [
      "****Alignment****\n",
      "sequence: sp|Q9NPI8.1| RecName: Full=Fanconi anemia group F protein; Short=Protein FACF [Homo sapiens]\n",
      "length: 374\n",
      "e value: 0.0\n",
      "MESLLQHLDRFSELLAVSSTTYVSTWDPATVRRALQWARYLRHIHRRFGRHGPIRTALERRLHNQWRQEGGFGRG...\n",
      "MESLLQHLDRFSELLAVSSTTYVSTWDPATVRRALQWARYLRHIHRRFGRHGPIRTALERRLHNQWRQEGGFGRG...\n",
      "MESLLQHLDRFSELLAVSSTTYVSTWDPATVRRALQWARYLRHIHRRFGRHGPIRTALERRLHNQWRQEGGFGRG...\n",
      "****Alignment****\n",
      "sequence: sp|E9Q5Z5.1| RecName: Full=Fanconi anemia group F protein; Short=Protein FACF [Mus musculus]\n",
      "length: 343\n",
      "e value: 4.63552e-85\n",
      "MESLLQHLDRFSELLAVSSTTYVSTWDPATVRRALQWARYLRHIHRRFGRHGPIRTALERRLHNQWRQEGGFGRG...\n",
      "ME L+Q  +RFSELLAVS  + VSTWD   VRRALQWARYL H++RRF   G +R ALERRL           RG...\n",
      "MEPLVQQTERFSELLAVSCGSLVSTWDAEKVRRALQWARYLLHVYRRFAGRGRVREALERRLP---------ARG...\n",
      "****Alignment****\n",
      "sequence: sp|P44596.2| RecName: Full=Adhesion and penetration protein autotransporter; Contains: RecName: Full=Adhesion and penetration protein; Contains: RecName: Full=Adhesion and penetration protein translocator; AltName: Full=Helper peptide; Flags: Precursor [Haemophilus influenzae Rd KW20]\n",
      "length: 1409\n",
      "e value: 3.22808\n",
      "ENRALGDAARYHLVQQLFPGPGVRDADEETLQESLARLARRRSAVHMLRFNGYRENPNLQE--DSLMKTQAELLL...\n",
      "E   L D  R    +Q      V    E+  Q+S A+ AR R AV         + P+ Q   ++L   Q E   ...\n",
      "EQELLNDLVRAEQAEQTLEAKQVEQTAEK--QKSKAK-ARSRRAV-------LSDTPSAQSLLNALEAKQVEQTT...\n",
      "****Alignment****\n",
      "sequence: sp|Q3B189.1| RecName: Full=NAD kinase; AltName: Full=ATP-dependent NAD kinase [Pelodictyon luteolum DSM 273]\n",
      "length: 285\n",
      "e value: 3.70742\n",
      "LVTSRHPALSPV------YLGLLTDWGQRLHYDLQKGIWVGTESQDVPWEELHNRFQSLCQAPPPLKDKVLTALE...\n",
      "L TS+H    PV      YLG LT++ Q   +D  + +  GT +       +H R Q     P   +++   AL ...\n",
      "LFTSQHSVTKPVVGINVGYLGFLTEFTQEEMFDAVEKVIKGTYT-------IHTRTQLEASVPADGRNEQFLALN...\n",
      "****Alignment****\n",
      "sequence: sp|P96994.2| RecName: Full=Galactose-1-phosphate uridylyltransferase; Short=Gal-1-P uridylyltransferase; AltName: Full=UDP-glucose--hexose-1-phosphate uridylyltransferase [Streptococcus mutans UA159]\n",
      "length: 491\n",
      "e value: 3.86821\n",
      "DVLLSLRLLENRALGDAARYHLVQQLFPGPGVRDADEETLQESLARLARRRSAVHMLRFNGYRENPNLQEDSLMK...\n",
      "D  +S +++EN    +    +L  ++    G  +A ++T Q +L  +A +   V +   NG   +   ++D L  ...\n",
      "DTFVS-KIIENSDYAELDATYLSNRILALVGEDNAQQDTNQSNL--IALKDELVDLAVVNGKVGDLAEEKDCLGA...\n",
      "****Alignment****\n",
      "sequence: sp|O59536.2| RecName: Full=Triosephosphate isomerase; Short=TIM; Short=TPI; AltName: Full=Triose-phosphate isomerase [Pyrococcus horikoshii OT3]\n",
      "length: 228\n",
      "e value: 4.1943\n",
      "KTQAELLLERLQEVGKAEAERPARFLSSLWERLPQNNFLKVIAVALLQPPLSRRPQEELEPGIH---------KS...\n",
      "KT  E   +R  E+ KA AER  +         PQ   L++IA   ++ P+  +  + ++PG H         K ...\n",
      "KTYIEATGKRALEIAKA-AERVYKETGVTIVVAPQLVDLRMIA-ENVEIPVFAQHIDPIKPGSHTGHVLPEAVKE...\n",
      "****Alignment****\n",
      "sequence: sp|Q0T616.1| RecName: Full=Deferrochelatase/peroxidase EfeB; Flags: Precursor [Shigella flexneri 5 str. 8401] >sp|Q83LK4.1| RecName: Full=Deferrochelatase/peroxidase EfeB; Flags: Precursor [Shigella flexneri]\n",
      "length: 421\n",
      "e value: 4.7992\n",
      "ALGHCDVLLSLRLLENRALGDAARYHLVQQLFPGPGVRDADEETLQESLARLARRRSAVHMLRFNGYRENPNLQE...\n",
      "AL H DVLL +       +  A R  +++       VR   E  + +  AR   + + +++L F     NP+ Q ...\n",
      "ALCHGDVLLQICANTQDTVNHALR-DIIKHTPDLLSVRWKREGFISDHAARSKGKETPINLLGFKDGTANPDSQN...\n"
     ]
    }
   ],
   "source": [
    "#blast da proteina do gene fancf\n",
    "from Bio.Blast import NCBIWWW\n",
    "from Bio import SeqIO\n",
    "from Bio.Blast import NCBIXML\n",
    "record2 = SeqIO.read(open(\"proteinafancf.fasta\"),format=\"fasta\")\n",
    "result_handle2 = NCBIWWW.qblast(\"blastp\",\"swissprot\",record2.format(\"fasta\"))\n",
    "blast_records2 = NCBIXML.parse(result_handle2)\n",
    "#E_VALUE_THRESH = 0.05\n",
    "for blast_record in blast_records2:\n",
    "    for alignment in blast_record.alignments:\n",
    "        for hsp in alignment.hsps:\n",
    "            #if hsp.expect < E_VALUE_THRESH:\n",
    "                print (\"****Alignment****\")\n",
    "                print ('sequence:', alignment.title)\n",
    "                print ('length:', alignment.length)\n",
    "                print ('e value:', hsp.expect)\n",
    "                print (hsp.query[0:75] + \"...\" )\n",
    "                print( hsp.match[0:75] + \"...\" )\n",
    "                print( hsp.sbjct[0:75] + \"...\" )"
   ]
  },
  {
   "cell_type": "code",
   "execution_count": null,
   "metadata": {},
   "outputs": [],
   "source": [
    "#alinhamento multiplo do proteina do gene fancf com outras proteinas usando clustalw\n",
    "# é necessario fazer primeiro o blast para criar o ficheiro com as proteinas semelhantes\n",
    "import os\n",
    "from Bio.Align.Applications import ClustalwCommandline\n",
    "clustalw_exe = r\"C:\\Program Files\\new clustal\\clustalw2.exe\"\n",
    "clustalw_cline = ClustalwCommandline(clustalw_exe, infile=\"alinhamento2.fasta\")\n",
    "\n",
    "\n",
    "from Bio import AlignIO\n",
    "align = AlignIO.read(\"alinhamento2.aln\",\"clustal\")\n",
    "print(align)"
   ]
  }
 ],
 "metadata": {
  "kernelspec": {
   "display_name": "Python 3",
   "language": "python",
   "name": "python3"
  },
  "language_info": {
   "codemirror_mode": {
    "name": "ipython",
    "version": 3
   },
   "file_extension": ".py",
   "mimetype": "text/x-python",
   "name": "python",
   "nbconvert_exporter": "python",
   "pygments_lexer": "ipython3",
   "version": "3.7.3"
  }
 },
 "nbformat": 4,
 "nbformat_minor": 2
}
